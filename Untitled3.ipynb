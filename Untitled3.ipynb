{
 "cells": [
  {
   "cell_type": "code",
   "execution_count": 1,
   "id": "101fdac9",
   "metadata": {},
   "outputs": [
    {
     "name": "stdout",
     "output_type": "stream",
     "text": [
      "Hello world\n"
     ]
    }
   ],
   "source": [
    "print(\"Hello world\")"
   ]
  },
  {
   "cell_type": "code",
   "execution_count": 4,
   "id": "7b999ecf",
   "metadata": {},
   "outputs": [
    {
     "name": "stdout",
     "output_type": "stream",
     "text": [
      "30\n"
     ]
    }
   ],
   "source": [
    "(15+15)"
   ]
  },
  {
   "cell_type": "code",
   "execution_count": 10,
   "id": "dceed834",
   "metadata": {},
   "outputs": [
    {
     "data": {
      "text/plain": [
       "300"
      ]
     },
     "execution_count": 10,
     "metadata": {},
     "output_type": "execute_result"
    }
   ],
   "source": [
    "(10*30)"
   ]
  },
  {
   "cell_type": "code",
   "execution_count": null,
   "id": "4d02f864",
   "metadata": {},
   "outputs": [],
   "source": [
    "to execute the code ctrl+enter ,Shift+enter\n",
    "add the cell (above current cell)- Esc+a\n",
    "add the cell(below current cell)-Esc+b\n",
    "delete the cell(above current cell)-ECS+D+D\n"
   ]
  },
  {
   "cell_type": "markdown",
   "id": "ef1d9d19",
   "metadata": {},
   "source": [
    "jupiter Notebook"
   ]
  },
  {
   "cell_type": "markdown",
   "id": "c4887874",
   "metadata": {},
   "source": [
    "Hello student welcome to data science"
   ]
  }
 ],
 "metadata": {
  "kernelspec": {
   "display_name": "Python 3 (ipykernel)",
   "language": "python",
   "name": "python3"
  },
  "language_info": {
   "codemirror_mode": {
    "name": "ipython",
    "version": 3
   },
   "file_extension": ".py",
   "mimetype": "text/x-python",
   "name": "python",
   "nbconvert_exporter": "python",
   "pygments_lexer": "ipython3",
   "version": "3.11.5"
  }
 },
 "nbformat": 4,
 "nbformat_minor": 5
}
